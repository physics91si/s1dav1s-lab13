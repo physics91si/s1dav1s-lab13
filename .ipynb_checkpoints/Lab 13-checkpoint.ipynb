{
 "cells": [
  {
   "cell_type": "code",
   "execution_count": 18,
   "metadata": {
    "collapsed": false
   },
   "outputs": [],
   "source": [
    "import calc as c\n",
    "import testing as t"
   ]
  },
  {
   "cell_type": "code",
   "execution_count": 19,
   "metadata": {
    "collapsed": false
   },
   "outputs": [
    {
     "name": "stdout",
     "output_type": "stream",
     "text": [
      "testAddition (__main__.CalcTest) ... ok\r\n",
      "testDivision (__main__.CalcTest) ... FAIL\r\n",
      "testMultiplciation (__main__.CalcTest) ... ok\r\n",
      "testSubtraction (__main__.CalcTest) ... ok\r\n",
      "\r\n",
      "======================================================================\r\n",
      "FAIL: testDivision (__main__.CalcTest)\r\n",
      "----------------------------------------------------------------------\r\n",
      "Traceback (most recent call last):\r\n",
      "  File \"testing.py\", line 22, in testDivision\r\n",
      "    self.assertEqual(calc.calc('10/5'), 2)\r\n",
      "AssertionError: None != 2\r\n",
      "\r\n",
      "----------------------------------------------------------------------\r\n",
      "Ran 4 tests in 0.001s\r\n",
      "\r\n",
      "FAILED (failures=1)\r\n"
     ]
    }
   ],
   "source": [
    "!python testing.py -v"
   ]
  },
  {
   "cell_type": "code",
   "execution_count": null,
   "metadata": {
    "collapsed": true
   },
   "outputs": [],
   "source": []
  }
 ],
 "metadata": {
  "kernelspec": {
   "display_name": "Python 2",
   "language": "python",
   "name": "python2"
  },
  "language_info": {
   "codemirror_mode": {
    "name": "ipython",
    "version": 2
   },
   "file_extension": ".py",
   "mimetype": "text/x-python",
   "name": "python",
   "nbconvert_exporter": "python",
   "pygments_lexer": "ipython2",
   "version": "2.7.11"
  }
 },
 "nbformat": 4,
 "nbformat_minor": 0
}
